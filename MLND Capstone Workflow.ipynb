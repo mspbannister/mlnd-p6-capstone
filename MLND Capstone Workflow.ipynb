{
 "cells": [
  {
   "cell_type": "markdown",
   "metadata": {},
   "source": [
    "# Udacity Machine Learning Engineer Nanodegree"
   ]
  },
  {
   "cell_type": "markdown",
   "metadata": {},
   "source": [
    "## Capstone Project Workflow"
   ]
  },
  {
   "cell_type": "markdown",
   "metadata": {},
   "source": [
    "**Mark Bannister**  \n",
    "*January 2018*"
   ]
  },
  {
   "cell_type": "markdown",
   "metadata": {},
   "source": [
    "## I. Import data and libraries"
   ]
  },
  {
   "cell_type": "code",
   "execution_count": 1,
   "metadata": {
    "collapsed": true
   },
   "outputs": [],
   "source": [
    "# Import necessary libraries\n",
    "import numpy as np\n",
    "import pandas as pd\n",
    "import matplotlib.pyplot as plt\n",
    "import seaborn as sns\n",
    "\n",
    "# Pretty display for notebooks\n",
    "%matplotlib inline"
   ]
  },
  {
   "cell_type": "code",
   "execution_count": 2,
   "metadata": {
    "collapsed": true
   },
   "outputs": [],
   "source": [
    "# Import data from csv\n",
    "tracks = pd.read_csv(\"Data/markbannister_tracks_master.csv\")"
   ]
  },
  {
   "cell_type": "code",
   "execution_count": 3,
   "metadata": {
    "collapsed": false
   },
   "outputs": [
    {
     "data": {
      "text/html": [
       "<div>\n",
       "<style>\n",
       "    .dataframe thead tr:only-child th {\n",
       "        text-align: right;\n",
       "    }\n",
       "\n",
       "    .dataframe thead th {\n",
       "        text-align: left;\n",
       "    }\n",
       "\n",
       "    .dataframe tbody tr th {\n",
       "        vertical-align: top;\n",
       "    }\n",
       "</style>\n",
       "<table border=\"1\" class=\"dataframe\">\n",
       "  <thead>\n",
       "    <tr style=\"text-align: right;\">\n",
       "      <th></th>\n",
       "      <th>Track</th>\n",
       "      <th>Artist</th>\n",
       "      <th>Album</th>\n",
       "      <th>First_played</th>\n",
       "      <th>Last_played</th>\n",
       "      <th>Play_count</th>\n",
       "      <th>Days_in_library</th>\n",
       "      <th>Plays_per_year</th>\n",
       "      <th>uri</th>\n",
       "      <th>explicit</th>\n",
       "      <th>...</th>\n",
       "      <th>id</th>\n",
       "      <th>instrumentalness</th>\n",
       "      <th>key</th>\n",
       "      <th>liveness</th>\n",
       "      <th>loudness</th>\n",
       "      <th>mode</th>\n",
       "      <th>speechiness</th>\n",
       "      <th>tempo</th>\n",
       "      <th>time_signature</th>\n",
       "      <th>valence</th>\n",
       "    </tr>\n",
       "  </thead>\n",
       "  <tbody>\n",
       "    <tr>\n",
       "      <th>0</th>\n",
       "      <td>1%</td>\n",
       "      <td>Lars Frederiksen and the Bastards</td>\n",
       "      <td>Viking</td>\n",
       "      <td>28/09/06 16:56</td>\n",
       "      <td>24/05/09 11:55</td>\n",
       "      <td>6</td>\n",
       "      <td>4069</td>\n",
       "      <td>0.538216</td>\n",
       "      <td>spotify:track:38NY49T4OlgIXjOSY1RKz8</td>\n",
       "      <td>False</td>\n",
       "      <td>...</td>\n",
       "      <td>38NY49T4OlgIXjOSY1RKz8</td>\n",
       "      <td>0.000</td>\n",
       "      <td>E</td>\n",
       "      <td>0.210</td>\n",
       "      <td>-2.725</td>\n",
       "      <td>Minor</td>\n",
       "      <td>0.0749</td>\n",
       "      <td>181.567</td>\n",
       "      <td>4</td>\n",
       "      <td>0.828</td>\n",
       "    </tr>\n",
       "    <tr>\n",
       "      <th>1</th>\n",
       "      <td>10:37</td>\n",
       "      <td>Beach House</td>\n",
       "      <td>Depression Cherry</td>\n",
       "      <td>29/08/15 06:09</td>\n",
       "      <td>24/12/15 19:19</td>\n",
       "      <td>20</td>\n",
       "      <td>813</td>\n",
       "      <td>8.979090</td>\n",
       "      <td>spotify:track:4RGbULF7N4dvC01DCiXmRp</td>\n",
       "      <td>False</td>\n",
       "      <td>...</td>\n",
       "      <td>4RGbULF7N4dvC01DCiXmRp</td>\n",
       "      <td>0.142</td>\n",
       "      <td>F</td>\n",
       "      <td>0.101</td>\n",
       "      <td>-8.982</td>\n",
       "      <td>Major</td>\n",
       "      <td>0.0266</td>\n",
       "      <td>96.085</td>\n",
       "      <td>4</td>\n",
       "      <td>0.482</td>\n",
       "    </tr>\n",
       "    <tr>\n",
       "      <th>2</th>\n",
       "      <td>12:51</td>\n",
       "      <td>The Strokes</td>\n",
       "      <td>inf</td>\n",
       "      <td>27/10/06 22:54</td>\n",
       "      <td>19/11/15 12:56</td>\n",
       "      <td>33</td>\n",
       "      <td>4040</td>\n",
       "      <td>2.981436</td>\n",
       "      <td>spotify:track:6Yu1OL8I0D4vjOzYdsXYGK</td>\n",
       "      <td>False</td>\n",
       "      <td>...</td>\n",
       "      <td>6Yu1OL8I0D4vjOzYdsXYGK</td>\n",
       "      <td>0.800</td>\n",
       "      <td>E</td>\n",
       "      <td>0.558</td>\n",
       "      <td>-3.838</td>\n",
       "      <td>Major</td>\n",
       "      <td>0.0379</td>\n",
       "      <td>145.056</td>\n",
       "      <td>4</td>\n",
       "      <td>0.591</td>\n",
       "    </tr>\n",
       "    <tr>\n",
       "      <th>3</th>\n",
       "      <td>11:11 pm</td>\n",
       "      <td>The All-American Rejects</td>\n",
       "      <td>Move Along</td>\n",
       "      <td>11/10/09 21:59</td>\n",
       "      <td>26/11/11 20:50</td>\n",
       "      <td>12</td>\n",
       "      <td>2960</td>\n",
       "      <td>1.479730</td>\n",
       "      <td>spotify:track:6rNLw2HJIf0oGBSFJVbMnV</td>\n",
       "      <td>False</td>\n",
       "      <td>...</td>\n",
       "      <td>6rNLw2HJIf0oGBSFJVbMnV</td>\n",
       "      <td>0.000</td>\n",
       "      <td>G#/Ab</td>\n",
       "      <td>0.132</td>\n",
       "      <td>-4.225</td>\n",
       "      <td>Major</td>\n",
       "      <td>0.0601</td>\n",
       "      <td>153.745</td>\n",
       "      <td>4</td>\n",
       "      <td>0.682</td>\n",
       "    </tr>\n",
       "    <tr>\n",
       "      <th>4</th>\n",
       "      <td>3</td>\n",
       "      <td>Britney Spears</td>\n",
       "      <td>The Essential Britney Spears (Remastered)</td>\n",
       "      <td>29/03/17 16:56</td>\n",
       "      <td>29/03/17 16:56</td>\n",
       "      <td>1</td>\n",
       "      <td>234</td>\n",
       "      <td>1.559829</td>\n",
       "      <td>spotify:track:2d7fRuDlFZfKIoSuf8bhGv</td>\n",
       "      <td>False</td>\n",
       "      <td>...</td>\n",
       "      <td>2d7fRuDlFZfKIoSuf8bhGv</td>\n",
       "      <td>0.000</td>\n",
       "      <td>F</td>\n",
       "      <td>0.199</td>\n",
       "      <td>-1.948</td>\n",
       "      <td>Minor</td>\n",
       "      <td>0.0475</td>\n",
       "      <td>134.962</td>\n",
       "      <td>4</td>\n",
       "      <td>0.761</td>\n",
       "    </tr>\n",
       "  </tbody>\n",
       "</table>\n",
       "<p>5 rows × 27 columns</p>\n",
       "</div>"
      ],
      "text/plain": [
       "      Track                             Artist  \\\n",
       "0        1%  Lars Frederiksen and the Bastards   \n",
       "1     10:37                        Beach House   \n",
       "2     12:51                        The Strokes   \n",
       "3  11:11 pm           The All-American Rejects   \n",
       "4         3                     Britney Spears   \n",
       "\n",
       "                                       Album    First_played     Last_played  \\\n",
       "0                                     Viking  28/09/06 16:56  24/05/09 11:55   \n",
       "1                          Depression Cherry  29/08/15 06:09  24/12/15 19:19   \n",
       "2                                        inf  27/10/06 22:54  19/11/15 12:56   \n",
       "3                                 Move Along  11/10/09 21:59  26/11/11 20:50   \n",
       "4  The Essential Britney Spears (Remastered)  29/03/17 16:56  29/03/17 16:56   \n",
       "\n",
       "   Play_count  Days_in_library  Plays_per_year  \\\n",
       "0           6             4069        0.538216   \n",
       "1          20              813        8.979090   \n",
       "2          33             4040        2.981436   \n",
       "3          12             2960        1.479730   \n",
       "4           1              234        1.559829   \n",
       "\n",
       "                                    uri  explicit   ...    \\\n",
       "0  spotify:track:38NY49T4OlgIXjOSY1RKz8     False   ...     \n",
       "1  spotify:track:4RGbULF7N4dvC01DCiXmRp     False   ...     \n",
       "2  spotify:track:6Yu1OL8I0D4vjOzYdsXYGK     False   ...     \n",
       "3  spotify:track:6rNLw2HJIf0oGBSFJVbMnV     False   ...     \n",
       "4  spotify:track:2d7fRuDlFZfKIoSuf8bhGv     False   ...     \n",
       "\n",
       "                       id  instrumentalness    key liveness  loudness   mode  \\\n",
       "0  38NY49T4OlgIXjOSY1RKz8             0.000      E    0.210    -2.725  Minor   \n",
       "1  4RGbULF7N4dvC01DCiXmRp             0.142      F    0.101    -8.982  Major   \n",
       "2  6Yu1OL8I0D4vjOzYdsXYGK             0.800      E    0.558    -3.838  Major   \n",
       "3  6rNLw2HJIf0oGBSFJVbMnV             0.000  G#/Ab    0.132    -4.225  Major   \n",
       "4  2d7fRuDlFZfKIoSuf8bhGv             0.000      F    0.199    -1.948  Minor   \n",
       "\n",
       "   speechiness    tempo  time_signature valence  \n",
       "0       0.0749  181.567               4   0.828  \n",
       "1       0.0266   96.085               4   0.482  \n",
       "2       0.0379  145.056               4   0.591  \n",
       "3       0.0601  153.745               4   0.682  \n",
       "4       0.0475  134.962               4   0.761  \n",
       "\n",
       "[5 rows x 27 columns]"
      ]
     },
     "execution_count": 3,
     "metadata": {},
     "output_type": "execute_result"
    }
   ],
   "source": [
    "# Print first five rows\n",
    "tracks.head()"
   ]
  },
  {
   "cell_type": "markdown",
   "metadata": {},
   "source": [
    "## II. Analysis"
   ]
  },
  {
   "cell_type": "markdown",
   "metadata": {},
   "source": [
    "### Data exploration"
   ]
  },
  {
   "cell_type": "markdown",
   "metadata": {},
   "source": [
    "**Label distribution**"
   ]
  },
  {
   "cell_type": "code",
   "execution_count": 4,
   "metadata": {
    "collapsed": false
   },
   "outputs": [
    {
     "name": "stdout",
     "output_type": "stream",
     "text": [
      "Total number of tracks: 10832\n",
      "Tracks with three plays or more: 4963\n",
      "Tracks with two plays or less: 5869\n",
      "Percentage of tracks with three plays or more: 45.82%\n"
     ]
    }
   ],
   "source": [
    "# Total number of tracks\n",
    "n_records = tracks.shape[0]\n",
    "\n",
    "# Number of tracks where play count is three or more\n",
    "n_greater_3 = tracks[tracks['Play_count'] >= 3].shape[0]\n",
    "\n",
    "# Number of tracks where play count is two or less\n",
    "n_lessthan_3 = tracks[tracks['Play_count'] < 3].shape[0]\n",
    "\n",
    "# Percentage of tracks where play count is three or more\n",
    "greater_percent = 100. * n_greater_3 / n_records\n",
    "\n",
    "# Print the results\n",
    "print \"Total number of tracks: {}\".format(n_records)\n",
    "print \"Tracks with three plays or more: {}\".format(n_greater_3)\n",
    "print \"Tracks with two plays or less: {}\".format(n_lessthan_3)\n",
    "print \"Percentage of tracks with three plays or more: {:.2f}%\".format(greater_percent)"
   ]
  },
  {
   "cell_type": "markdown",
   "metadata": {},
   "source": [
    "**Featureset exploration**"
   ]
  },
  {
   "cell_type": "markdown",
   "metadata": {},
   "source": [
    "- **explicit**: True, False.\n",
    "- **popularity**: continuous, integers only (0-100).\n",
    "- **acousticness**: continuous (0-1).\n",
    "- **danceability**: continuous (0-1).\n",
    "- **duration_ms**: continuous (lower bound = 0).\n",
    "- **energy**: continuous (0-1).\n",
    "- **instrumentalness**: continuous (0-1).\n",
    "- **key**: C, C#/Db, D, D#/Eb, E, F, F#/Gb, G, G#/Ab, A, A#/Bb, B.\n",
    "- **liveness**: continuous (0-1).\n",
    "- **loudness**: continuous (upper bound = 0).\n",
    "- **mode**: Major, Minor.\n",
    "- **speechiness**: continuous (0-1).\n",
    "- **tempo**: continuous (lower bound = 0).\n",
    "- **time_signature**: 0, 1, 3, 4, 5.\n",
    "- **valence**: continuous (0-1)."
   ]
  },
  {
   "cell_type": "code",
   "execution_count": 5,
   "metadata": {
    "collapsed": false
   },
   "outputs": [
    {
     "data": {
      "text/html": [
       "<div>\n",
       "<style>\n",
       "    .dataframe thead tr:only-child th {\n",
       "        text-align: right;\n",
       "    }\n",
       "\n",
       "    .dataframe thead th {\n",
       "        text-align: left;\n",
       "    }\n",
       "\n",
       "    .dataframe tbody tr th {\n",
       "        vertical-align: top;\n",
       "    }\n",
       "</style>\n",
       "<table border=\"1\" class=\"dataframe\">\n",
       "  <thead>\n",
       "    <tr style=\"text-align: right;\">\n",
       "      <th></th>\n",
       "      <th>Play_count</th>\n",
       "      <th>Days_in_library</th>\n",
       "      <th>Plays_per_year</th>\n",
       "      <th>popularity</th>\n",
       "      <th>acousticness</th>\n",
       "      <th>danceability</th>\n",
       "      <th>duration_ms</th>\n",
       "      <th>energy</th>\n",
       "      <th>instrumentalness</th>\n",
       "      <th>liveness</th>\n",
       "      <th>loudness</th>\n",
       "      <th>speechiness</th>\n",
       "      <th>tempo</th>\n",
       "      <th>time_signature</th>\n",
       "      <th>valence</th>\n",
       "    </tr>\n",
       "  </thead>\n",
       "  <tbody>\n",
       "    <tr>\n",
       "      <th>count</th>\n",
       "      <td>10832.000000</td>\n",
       "      <td>10832.000000</td>\n",
       "      <td>10832.000000</td>\n",
       "      <td>10832.000000</td>\n",
       "      <td>10832.000000</td>\n",
       "      <td>10832.000000</td>\n",
       "      <td>1.083200e+04</td>\n",
       "      <td>10832.000000</td>\n",
       "      <td>10832.000000</td>\n",
       "      <td>10832.000000</td>\n",
       "      <td>10832.000000</td>\n",
       "      <td>10832.000000</td>\n",
       "      <td>10832.000000</td>\n",
       "      <td>10832.000000</td>\n",
       "      <td>10832.000000</td>\n",
       "    </tr>\n",
       "    <tr>\n",
       "      <th>mean</th>\n",
       "      <td>8.219996</td>\n",
       "      <td>1897.799668</td>\n",
       "      <td>1.886108</td>\n",
       "      <td>41.605428</td>\n",
       "      <td>0.203145</td>\n",
       "      <td>0.528272</td>\n",
       "      <td>2.466959e+05</td>\n",
       "      <td>0.695913</td>\n",
       "      <td>0.169082</td>\n",
       "      <td>0.213127</td>\n",
       "      <td>-7.574049</td>\n",
       "      <td>0.095316</td>\n",
       "      <td>123.019689</td>\n",
       "      <td>3.918113</td>\n",
       "      <td>0.453782</td>\n",
       "    </tr>\n",
       "    <tr>\n",
       "      <th>std</th>\n",
       "      <td>15.027672</td>\n",
       "      <td>1450.319263</td>\n",
       "      <td>4.618378</td>\n",
       "      <td>16.518349</td>\n",
       "      <td>0.283558</td>\n",
       "      <td>0.178044</td>\n",
       "      <td>9.705844e+04</td>\n",
       "      <td>0.226898</td>\n",
       "      <td>0.300337</td>\n",
       "      <td>0.171790</td>\n",
       "      <td>3.901967</td>\n",
       "      <td>0.101264</td>\n",
       "      <td>29.072481</td>\n",
       "      <td>0.399238</td>\n",
       "      <td>0.244583</td>\n",
       "    </tr>\n",
       "    <tr>\n",
       "      <th>min</th>\n",
       "      <td>1.000000</td>\n",
       "      <td>2.000000</td>\n",
       "      <td>0.087888</td>\n",
       "      <td>0.000000</td>\n",
       "      <td>0.000001</td>\n",
       "      <td>0.000000</td>\n",
       "      <td>2.629300e+04</td>\n",
       "      <td>0.000070</td>\n",
       "      <td>0.000000</td>\n",
       "      <td>0.014900</td>\n",
       "      <td>-37.687000</td>\n",
       "      <td>0.000000</td>\n",
       "      <td>0.000000</td>\n",
       "      <td>0.000000</td>\n",
       "      <td>0.000000</td>\n",
       "    </tr>\n",
       "    <tr>\n",
       "      <th>25%</th>\n",
       "      <td>1.000000</td>\n",
       "      <td>680.000000</td>\n",
       "      <td>0.406459</td>\n",
       "      <td>31.000000</td>\n",
       "      <td>0.002730</td>\n",
       "      <td>0.404750</td>\n",
       "      <td>1.944915e+05</td>\n",
       "      <td>0.551000</td>\n",
       "      <td>0.000003</td>\n",
       "      <td>0.100000</td>\n",
       "      <td>-9.231250</td>\n",
       "      <td>0.037000</td>\n",
       "      <td>100.705000</td>\n",
       "      <td>4.000000</td>\n",
       "      <td>0.254000</td>\n",
       "    </tr>\n",
       "    <tr>\n",
       "      <th>50%</th>\n",
       "      <td>2.000000</td>\n",
       "      <td>1317.000000</td>\n",
       "      <td>0.991144</td>\n",
       "      <td>42.000000</td>\n",
       "      <td>0.050650</td>\n",
       "      <td>0.527000</td>\n",
       "      <td>2.331280e+05</td>\n",
       "      <td>0.738000</td>\n",
       "      <td>0.001095</td>\n",
       "      <td>0.140000</td>\n",
       "      <td>-6.737000</td>\n",
       "      <td>0.053850</td>\n",
       "      <td>121.011000</td>\n",
       "      <td>4.000000</td>\n",
       "      <td>0.435000</td>\n",
       "    </tr>\n",
       "    <tr>\n",
       "      <th>75%</th>\n",
       "      <td>8.000000</td>\n",
       "      <td>3455.000000</td>\n",
       "      <td>2.221236</td>\n",
       "      <td>53.000000</td>\n",
       "      <td>0.306000</td>\n",
       "      <td>0.658000</td>\n",
       "      <td>2.813342e+05</td>\n",
       "      <td>0.885000</td>\n",
       "      <td>0.162000</td>\n",
       "      <td>0.289000</td>\n",
       "      <td>-4.938000</td>\n",
       "      <td>0.106000</td>\n",
       "      <td>140.403250</td>\n",
       "      <td>4.000000</td>\n",
       "      <td>0.642000</td>\n",
       "    </tr>\n",
       "    <tr>\n",
       "      <th>max</th>\n",
       "      <td>227.000000</td>\n",
       "      <td>4156.000000</td>\n",
       "      <td>182.500000</td>\n",
       "      <td>94.000000</td>\n",
       "      <td>0.996000</td>\n",
       "      <td>0.976000</td>\n",
       "      <td>2.266147e+06</td>\n",
       "      <td>0.999000</td>\n",
       "      <td>0.991000</td>\n",
       "      <td>0.999000</td>\n",
       "      <td>-0.184000</td>\n",
       "      <td>0.954000</td>\n",
       "      <td>239.981000</td>\n",
       "      <td>5.000000</td>\n",
       "      <td>0.993000</td>\n",
       "    </tr>\n",
       "  </tbody>\n",
       "</table>\n",
       "</div>"
      ],
      "text/plain": [
       "         Play_count  Days_in_library  Plays_per_year    popularity  \\\n",
       "count  10832.000000     10832.000000    10832.000000  10832.000000   \n",
       "mean       8.219996      1897.799668        1.886108     41.605428   \n",
       "std       15.027672      1450.319263        4.618378     16.518349   \n",
       "min        1.000000         2.000000        0.087888      0.000000   \n",
       "25%        1.000000       680.000000        0.406459     31.000000   \n",
       "50%        2.000000      1317.000000        0.991144     42.000000   \n",
       "75%        8.000000      3455.000000        2.221236     53.000000   \n",
       "max      227.000000      4156.000000      182.500000     94.000000   \n",
       "\n",
       "       acousticness  danceability   duration_ms        energy  \\\n",
       "count  10832.000000  10832.000000  1.083200e+04  10832.000000   \n",
       "mean       0.203145      0.528272  2.466959e+05      0.695913   \n",
       "std        0.283558      0.178044  9.705844e+04      0.226898   \n",
       "min        0.000001      0.000000  2.629300e+04      0.000070   \n",
       "25%        0.002730      0.404750  1.944915e+05      0.551000   \n",
       "50%        0.050650      0.527000  2.331280e+05      0.738000   \n",
       "75%        0.306000      0.658000  2.813342e+05      0.885000   \n",
       "max        0.996000      0.976000  2.266147e+06      0.999000   \n",
       "\n",
       "       instrumentalness      liveness      loudness   speechiness  \\\n",
       "count      10832.000000  10832.000000  10832.000000  10832.000000   \n",
       "mean           0.169082      0.213127     -7.574049      0.095316   \n",
       "std            0.300337      0.171790      3.901967      0.101264   \n",
       "min            0.000000      0.014900    -37.687000      0.000000   \n",
       "25%            0.000003      0.100000     -9.231250      0.037000   \n",
       "50%            0.001095      0.140000     -6.737000      0.053850   \n",
       "75%            0.162000      0.289000     -4.938000      0.106000   \n",
       "max            0.991000      0.999000     -0.184000      0.954000   \n",
       "\n",
       "              tempo  time_signature       valence  \n",
       "count  10832.000000    10832.000000  10832.000000  \n",
       "mean     123.019689        3.918113      0.453782  \n",
       "std       29.072481        0.399238      0.244583  \n",
       "min        0.000000        0.000000      0.000000  \n",
       "25%      100.705000        4.000000      0.254000  \n",
       "50%      121.011000        4.000000      0.435000  \n",
       "75%      140.403250        4.000000      0.642000  \n",
       "max      239.981000        5.000000      0.993000  "
      ]
     },
     "execution_count": 5,
     "metadata": {},
     "output_type": "execute_result"
    }
   ],
   "source": [
    "# Print summary statistics\n",
    "tracks.describe()"
   ]
  },
  {
   "cell_type": "markdown",
   "metadata": {},
   "source": [
    "**Data visualisation**"
   ]
  },
  {
   "cell_type": "code",
   "execution_count": 7,
   "metadata": {
    "collapsed": false
   },
   "outputs": [],
   "source": [
    "# Function to plot histogram of selected feature, with adjustable bins number and title\n",
    "def plot_hist(df, field, bins, transformed=0):\n",
    "    plt.hist(df[field], bins=bins)\n",
    "    plt.xlabel(\"Value\")\n",
    "    plt.ylabel(\"Frequency\")\n",
    "    if transformed == 1:\n",
    "        plt.title(\"'\" + field + \"' Feature Distribution - Log-Transformed\")\n",
    "    else:\n",
    "        plt.title(\"'\" + field + \"' Feature Distribution\")\n",
    "    plt.show()"
   ]
  },
  {
   "cell_type": "code",
   "execution_count": 8,
   "metadata": {
    "collapsed": false
   },
   "outputs": [
    {
     "data": {
      "image/png": "[encoded data removed]",
      "text/plain": [
       "<matplotlib.figure.Figure at 0x116821c10>"
      ]
     },
     "metadata": {},
     "output_type": "display_data"
    }
   ],
   "source": [
    "plot_hist(tracks, \"popularity\", 100)"
   ]
  },
  {
   "cell_type": "code",
   "execution_count": 9,
   "metadata": {
    "collapsed": false
   },
   "outputs": [
    {
     "data": {
      "image/png": "[encoded data removed]",
      "text/plain": [
       "<matplotlib.figure.Figure at 0x116f27d50>"
      ]
     },
     "metadata": {},
     "output_type": "display_data"
    }
   ],
   "source": [
    "plot_hist(tracks, \"acousticness\", 100)"
   ]
  },
  {
   "cell_type": "code",
   "execution_count": 10,
   "metadata": {
    "collapsed": false
   },
   "outputs": [
    {
     "data": {
      "image/png": "[encoded data removed]",
      "text/plain": [
       "<matplotlib.figure.Figure at 0x116f10610>"
      ]
     },
     "metadata": {},
     "output_type": "display_data"
    }
   ],
   "source": [
    "plot_hist(tracks, \"danceability\", 100)"
   ]
  },
  {
   "cell_type": "code",
   "execution_count": 11,
   "metadata": {
    "collapsed": false
   },
   "outputs": [
    {
     "data": {
      "image/png": "[encoded data removed]",
      "text/plain": [
       "<matplotlib.figure.Figure at 0x11782ae10>"
      ]
     },
     "metadata": {},
     "output_type": "display_data"
    }
   ],
   "source": [
    "plot_hist(tracks, \"duration_ms\", 1000)"
   ]
  },
  {
   "cell_type": "code",
   "execution_count": 12,
   "metadata": {
    "collapsed": false
   },
   "outputs": [
    {
     "data": {
      "image/png": "[encoded data removed]",
      "text/plain": [
       "<matplotlib.figure.Figure at 0x11755ead0>"
      ]
     },
     "metadata": {},
     "output_type": "display_data"
    }
   ],
   "source": [
    "plot_hist(tracks, \"energy\", 100)"
   ]
  },
  {
   "cell_type": "code",
   "execution_count": 13,
   "metadata": {
    "collapsed": false
   },
   "outputs": [
    {
     "data": {
      "image/png": "[encoded data removed]",
      "text/plain": [
       "<matplotlib.figure.Figure at 0x116eb4050>"
      ]
     },
     "metadata": {},
     "output_type": "display_data"
    }
   ],
   "source": [
    "plot_hist(tracks, \"instrumentalness\", 100)"
   ]
  },
  {
   "cell_type": "code",
   "execution_count": 14,
   "metadata": {
    "collapsed": false
   },
   "outputs": [
    {
     "data": {
      "image/png": "[encoded data removed]",
      "text/plain": [
       "<matplotlib.figure.Figure at 0x1177ac210>"
      ]
     },
     "metadata": {},
     "output_type": "display_data"
    }
   ],
   "source": [
    "plot_hist(tracks, \"liveness\", 100)"
   ]
  },
  {
   "cell_type": "code",
   "execution_count": 15,
   "metadata": {
    "collapsed": false,
    "scrolled": true
   },
   "outputs": [
    {
     "data": {
      "image/png": "[encoded data removed]",
      "text/plain": [
       "<matplotlib.figure.Figure at 0x117b82c10>"
      ]
     },
     "metadata": {},
     "output_type": "display_data"
    }
   ],
   "source": [
    "plot_hist(tracks, \"loudness\", 76)"
   ]
  },
  {
   "cell_type": "code",
   "execution_count": 16,
   "metadata": {
    "collapsed": false
   },
   "outputs": [
    {
     "data": {
      "image/png": "[encoded data removed]",
      "text/plain": [
       "<matplotlib.figure.Figure at 0x11a7308d0>"
      ]
     },
     "metadata": {},
     "output_type": "display_data"
    }
   ],
   "source": [
    "plot_hist(tracks, \"speechiness\", 100)"
   ]
  },
  {
   "cell_type": "code",
   "execution_count": 17,
   "metadata": {
    "collapsed": false,
    "scrolled": true
   },
   "outputs": [
    {
     "data": {
      "image/png": "[encoded data removed]",
      "text/plain": [
       "<matplotlib.figure.Figure at 0x11a6d0f50>"
      ]
     },
     "metadata": {},
     "output_type": "display_data"
    }
   ],
   "source": [
    "plot_hist(tracks, \"tempo\", 120)"
   ]
  },
  {
   "cell_type": "code",
   "execution_count": 18,
   "metadata": {
    "collapsed": false
   },
   "outputs": [
    {
     "data": {
      "image/png": "[encoded data removed]",
      "text/plain": [
       "<matplotlib.figure.Figure at 0x116e3a0d0>"
      ]
     },
     "metadata": {},
     "output_type": "display_data"
    }
   ],
   "source": [
    "plot_hist(tracks, \"valence\", 100)"
   ]
  },
  {
   "cell_type": "markdown",
   "metadata": {},
   "source": [
    "### Data pre-processing"
   ]
  },
  {
   "cell_type": "code",
   "execution_count": 19,
   "metadata": {
    "collapsed": false
   },
   "outputs": [],
   "source": [
    "# Coerce time_signature values to string for use with pd.get_dummies()\n",
    "tracks[\"time_signature\"] = tracks[\"time_signature\"].map({0: \"0\", 1: \"1\", 3: \"3\", \n",
    "                                                         4: \"4\", 5: \"5\"})\n",
    "\n",
    "# Coerce explicit to binary\n",
    "tracks[\"explicit\"] = tracks[\"explicit\"].map({False: 0, True: 1})\n",
    "\n",
    "# Coerce mode to binary\n",
    "tracks[\"mode\"] = tracks[\"mode\"].map({\"Major\": 1, \"Minor\": 0})\n",
    "\n",
    "# Create vector of labels (i.e. 1 = \"Like\", 0 = \"Dislike\")\n",
    "tracks_labels = np.array((tracks[\"Play_count\"] >= 3).map({False: 0, True: 1}))\n",
    "\n",
    "# Create dataframe of features\n",
    "tracks_features_raw = tracks[[\"explicit\", \"popularity\", \"acousticness\",\n",
    "                              \"danceability\", \"duration_ms\", \"energy\",\n",
    "                              \"instrumentalness\", \"key\", \"liveness\", \"loudness\",\n",
    "                              \"mode\", \"speechiness\", \"tempo\", \"time_signature\",\n",
    "                              \"valence\"]]"
   ]
  },
  {
   "cell_type": "code",
   "execution_count": 20,
   "metadata": {
    "collapsed": false
   },
   "outputs": [],
   "source": [
    "# Transform skewed features\n",
    "tracks_features_trans = tracks_features_raw.copy()\n",
    "tracks_features_trans[\"duration_ms\"] = tracks_features_trans[\"duration_ms\"].apply(lambda x: np.log(x + 1))\n",
    "tracks_features_trans[\"loudness\"] = tracks_features_trans[\"loudness\"].apply(lambda x: np.log(-x + 1))"
   ]
  },
  {
   "cell_type": "code",
   "execution_count": 21,
   "metadata": {
    "collapsed": false,
    "scrolled": true
   },
   "outputs": [
    {
     "data": {
      "image/png": "[encoded data removed]",
      "text/plain": [
       "<matplotlib.figure.Figure at 0x11a891390>"
      ]
     },
     "metadata": {},
     "output_type": "display_data"
    }
   ],
   "source": [
    "plot_hist(tracks_features_trans, \"duration_ms\", 1000, transformed = 1)"
   ]
  },
  {
   "cell_type": "code",
   "execution_count": 22,
   "metadata": {
    "collapsed": false,
    "scrolled": true
   },
   "outputs": [
    {
     "data": {
      "image/png": "[encoded data removed]",
      "text/plain": [
       "<matplotlib.figure.Figure at 0x116ae0c50>"
      ]
     },
     "metadata": {},
     "output_type": "display_data"
    }
   ],
   "source": [
    "plot_hist(tracks_features_trans, \"loudness\", 100, transformed = 1)"
   ]
  },
  {
   "cell_type": "code",
   "execution_count": 23,
   "metadata": {
    "collapsed": false
   },
   "outputs": [],
   "source": [
    "# One-hot encode categorical features\n",
    "tracks_features_final = pd.get_dummies(tracks_features_trans)"
   ]
  },
  {
   "cell_type": "code",
   "execution_count": 24,
   "metadata": {
    "collapsed": false
   },
   "outputs": [
    {
     "data": {
      "text/plain": [
       "30"
      ]
     },
     "execution_count": 24,
     "metadata": {},
     "output_type": "execute_result"
    }
   ],
   "source": [
    "# Get total number of features in final dataset\n",
    "len(list(tracks_features_final.columns))"
   ]
  },
  {
   "cell_type": "code",
   "execution_count": 25,
   "metadata": {
    "collapsed": false
   },
   "outputs": [
    {
     "data": {
      "text/plain": [
       "['explicit',\n",
       " 'popularity',\n",
       " 'acousticness',\n",
       " 'danceability',\n",
       " 'duration_ms',\n",
       " 'energy',\n",
       " 'instrumentalness',\n",
       " 'liveness',\n",
       " 'loudness',\n",
       " 'mode',\n",
       " 'speechiness',\n",
       " 'tempo',\n",
       " 'valence',\n",
       " 'key_A',\n",
       " 'key_A#/Bb',\n",
       " 'key_B',\n",
       " 'key_C',\n",
       " 'key_C#/Db',\n",
       " 'key_D',\n",
       " 'key_D#/Eb',\n",
       " 'key_E',\n",
       " 'key_F',\n",
       " 'key_F#/Gb',\n",
       " 'key_G',\n",
       " 'key_G#/Ab',\n",
       " 'time_signature_0',\n",
       " 'time_signature_1',\n",
       " 'time_signature_3',\n",
       " 'time_signature_4',\n",
       " 'time_signature_5']"
      ]
     },
     "execution_count": 25,
     "metadata": {},
     "output_type": "execute_result"
    }
   ],
   "source": [
    "# List features in final dataset\n",
    "list(tracks_features_final.columns)"
   ]
  },
  {
   "cell_type": "code",
   "execution_count": 26,
   "metadata": {
    "collapsed": false
   },
   "outputs": [
    {
     "name": "stdout",
     "output_type": "stream",
     "text": [
      "Training set has 8665 samples.\n",
      "Testing set has 2167 samples.\n"
     ]
    }
   ],
   "source": [
    "# Import train_test_split\n",
    "from sklearn.model_selection import train_test_split\n",
    "\n",
    "# Split the features and labels data into training and testing sets\n",
    "X_train, X_test, y_train, y_test = train_test_split(tracks_features_final, \n",
    "                                                    tracks_labels, \n",
    "                                                    test_size = 0.2, \n",
    "                                                    random_state = 101)\n",
    "\n",
    "# Show the results of the split\n",
    "print \"Training set has {} samples.\".format(X_train.shape[0])\n",
    "print \"Testing set has {} samples.\".format(X_test.shape[0])"
   ]
  },
  {
   "cell_type": "markdown",
   "metadata": {},
   "source": [
    "## III. Methodology"
   ]
  },
  {
   "cell_type": "markdown",
   "metadata": {},
   "source": [
    "### Default classifiers"
   ]
  },
  {
   "cell_type": "code",
   "execution_count": 27,
   "metadata": {
    "collapsed": false
   },
   "outputs": [
    {
     "name": "stderr",
     "output_type": "stream",
     "text": [
      "/Users/Mark/anaconda/envs/DAND/lib/python2.7/site-packages/sklearn/cross_validation.py:41: DeprecationWarning: This module was deprecated in version 0.18 in favor of the model_selection module into which all the refactored classes and functions are moved. Also note that the interface of the new CV iterators are different from that of this module. This module will be removed in 0.20.\n",
      "  \"This module will be removed in 0.20.\", DeprecationWarning)\n"
     ]
    }
   ],
   "source": [
    "# Import classifiers\n",
    "from sklearn.tree import DecisionTreeClassifier\n",
    "from sklearn.ensemble import RandomForestClassifier\n",
    "import xgboost as xgb"
   ]
  },
  {
   "cell_type": "code",
   "execution_count": 28,
   "metadata": {
    "collapsed": false
   },
   "outputs": [],
   "source": [
    "# Initialise classifiers\n",
    "clf_A = DecisionTreeClassifier(random_state = 101)\n",
    "clf_B = RandomForestClassifier(random_state = 101)\n",
    "clf_C = xgb.XGBClassifier(seed = 101)\n",
    "\n",
    "# Fit classifiers to training data using default parameters\n",
    "clf_A_fit = clf_A.fit(X_train, y_train)\n",
    "clf_B_fit = clf_B.fit(X_train, y_train)\n",
    "clf_C_fit = clf_C.fit(X_train, y_train)"
   ]
  },
  {
   "cell_type": "code",
   "execution_count": 29,
   "metadata": {
    "collapsed": false
   },
   "outputs": [
    {
     "name": "stdout",
     "output_type": "stream",
     "text": [
      "Decision Trees\n",
      "Accuracy: 0.537148131057\n",
      "Precision: 0.504073319756\n",
      "Recall: 0.489614243323\n",
      "F1: 0.496738585048\n",
      "Random Forest\n",
      "Accuracy: 0.588371019843\n",
      "Precision: 0.580080753701\n",
      "Recall: 0.426310583581\n",
      "F1: 0.491448118586\n",
      "XGBoost\n",
      "Accuracy: 0.631748961698\n",
      "Precision: 0.631644004944\n",
      "Recall: 0.505440158259\n",
      "F1: 0.561538461538\n"
     ]
    }
   ],
   "source": [
    "# Import evaluation metrics and scoring function\n",
    "from sklearn.metrics import accuracy_score, f1_score, precision_score, recall_score, make_scorer\n",
    "\n",
    "# Predict test data labels using default models and print results\n",
    "clf_A_pred = clf_A_fit.predict(X_test)\n",
    "clf_B_pred = clf_B_fit.predict(X_test)\n",
    "clf_C_pred = clf_C_fit.predict(X_test)\n",
    "\n",
    "print \"Decision Trees\"\n",
    "print \"Accuracy: \" + str(accuracy_score(y_test, clf_A_pred))\n",
    "print \"Precision: \" + str(precision_score(y_test, clf_A_pred))\n",
    "print \"Recall: \" + str(recall_score(y_test, clf_A_pred))\n",
    "print \"F1: \" + str(f1_score(y_test, clf_A_pred))\n",
    "\n",
    "print \"Random Forest\"\n",
    "print \"Accuracy: \" + str(accuracy_score(y_test, clf_B_pred))\n",
    "print \"Precision: \" + str(precision_score(y_test, clf_B_pred))\n",
    "print \"Recall: \" + str(recall_score(y_test, clf_B_pred))\n",
    "print \"F1: \" + str(f1_score(y_test, clf_B_pred))\n",
    "\n",
    "print \"XGBoost\"\n",
    "print \"Accuracy: \" + str(accuracy_score(y_test, clf_C_pred))\n",
    "print \"Precision: \" + str(precision_score(y_test, clf_C_pred))\n",
    "print \"Recall: \" + str(recall_score(y_test, clf_C_pred))\n",
    "print \"F1: \" + str(f1_score(y_test, clf_C_pred))"
   ]
  },
  {
   "cell_type": "markdown",
   "metadata": {},
   "source": [
    "### Benchmark model"
   ]
  },
  {
   "cell_type": "code",
   "execution_count": 95,
   "metadata": {
    "collapsed": false
   },
   "outputs": [
    {
     "name": "stdout",
     "output_type": "stream",
     "text": [
      "Benchmark model\n",
      "Accuracy: 0.549146285187\n",
      "Precision: 0.524566473988\n",
      "Recall: 0.359050445104\n",
      "F1: 0.42630651791\n"
     ]
    }
   ],
   "source": [
    "# Test benchmark model on test data\n",
    "benchmark_pred = (X_test[\"popularity\"] >= 50).map({False: 0, True: 1})\n",
    "\n",
    "print \"Benchmark model\"\n",
    "print \"Accuracy: \" + str(accuracy_score(y_test, benchmark_pred))\n",
    "print \"Precision: \" + str(precision_score(y_test, benchmark_pred))\n",
    "print \"Recall: \" + str(recall_score(y_test, benchmark_pred))\n",
    "print \"F1: \" + str(f1_score(y_test, benchmark_pred))"
   ]
  },
  {
   "cell_type": "markdown",
   "metadata": {},
   "source": [
    "### Optimise classifiers"
   ]
  },
  {
   "cell_type": "code",
   "execution_count": 37,
   "metadata": {
    "collapsed": false
   },
   "outputs": [],
   "source": [
    "# Import RandomizedSearchCV and random integer function\n",
    "from sklearn.model_selection import RandomizedSearchCV\n",
    "from scipy.stats import randint as sp_randint\n",
    "\n",
    "# Tune Decision Tree classifier using random search\n",
    "dt_params = {\"max_depth\": [3, None],\n",
    "             \"max_features\": range(2, 31, 8) + [None],\n",
    "             \"min_samples_split\": sp_randint(2, 11),\n",
    "             \"min_samples_leaf\": sp_randint(1, 11),\n",
    "             \"criterion\": [\"gini\", \"entropy\"]\n",
    "            }\n",
    "\n",
    "n_iter = 50\n",
    "cv = 5\n",
    "precision_scoring = make_scorer(precision_score)\n",
    "\n",
    "clf_A_search = RandomizedSearchCV(clf_A,\n",
    "                                  param_distributions = dt_params,\n",
    "                                  n_iter = n_iter,\n",
    "                                  scoring = precision_scoring,\n",
    "                                  cv = cv,\n",
    "                                  random_state = 101)\n",
    "\n",
    "# Fit best model to training data\n",
    "clf_A_best_fit = clf_A_search.fit(X_train, y_train)"
   ]
  },
  {
   "cell_type": "code",
   "execution_count": 38,
   "metadata": {
    "collapsed": false
   },
   "outputs": [],
   "source": [
    "# Tune Random Forest classifier using random search\n",
    "rf_params = {\"max_depth\": [3, None],\n",
    "             \"max_features\": range(2, 31, 8) + [None],\n",
    "             \"min_samples_split\": sp_randint(2, 11),\n",
    "             \"min_samples_leaf\": sp_randint(1, 11),\n",
    "             \"criterion\": [\"gini\", \"entropy\"],\n",
    "             \"n_estimators\": [100]\n",
    "            }\n",
    "\n",
    "n_iter = 50\n",
    "cv = 5\n",
    "\n",
    "clf_B_search = RandomizedSearchCV(clf_B,\n",
    "                                  param_distributions = rf_params,\n",
    "                                  n_iter = n_iter,\n",
    "                                  scoring = precision_scoring,\n",
    "                                  cv = cv,\n",
    "                                  random_state = 101)\n",
    "\n",
    "# Fit best model to training data\n",
    "clf_B_best_fit = clf_B_search.fit(X_train, y_train)"
   ]
  },
  {
   "cell_type": "code",
   "execution_count": 74,
   "metadata": {
    "collapsed": false
   },
   "outputs": [],
   "source": [
    "# Tune XGBoost classifier using random search\n",
    "xgb_params = {\"n_estimators\": [100],\n",
    "              \"learning_rate\": [i / 100.0 for i in range(5, 31, 1)],\n",
    "              \"min_child_weight\": range(1, 13, 1),\n",
    "              \"max_depth\": range(3, 7),\n",
    "              \"gamma\": [i / 100.0 for i in range(0, 50)],\n",
    "              \"subsample\": [i / 100.0 for i in range(50, 101)],\n",
    "              \"colsample_bytree\": [i / 100.0 for i in range(50, 101)]\n",
    "             }\n",
    "\n",
    "n_iter = 50\n",
    "cv = 5\n",
    "\n",
    "clf_C_search = RandomizedSearchCV(clf_C,\n",
    "                                  param_distributions = xgb_params,\n",
    "                                  n_iter = n_iter,\n",
    "                                  scoring = precision_scoring,\n",
    "                                  cv = cv,\n",
    "                                  random_state = 101)\n",
    "\n",
    "# Fit best model to training data\n",
    "clf_C_best_fit = clf_C_search.fit(X_train, y_train)"
   ]
  },
  {
   "cell_type": "code",
   "execution_count": 76,
   "metadata": {
    "collapsed": false
   },
   "outputs": [
    {
     "name": "stdout",
     "output_type": "stream",
     "text": [
      "Decision Trees\n",
      "Accuracy: 0.597138901707\n",
      "Precision: 0.615771812081\n",
      "Recall: 0.363006923838\n",
      "F1: 0.456751711263\n",
      "Random Forest\n",
      "Accuracy: 0.604983848639\n",
      "Precision: 0.691358024691\n",
      "Recall: 0.276953511375\n",
      "F1: 0.395480225989\n",
      "XGBoost\n",
      "Accuracy: 0.636363636364\n",
      "Precision: 0.638854296389\n",
      "Recall: 0.507418397626\n",
      "F1: 0.565600882029\n"
     ]
    }
   ],
   "source": [
    "# Predict test data labels using optimised models and print results\n",
    "clf_A_best_pred = clf_A_best_fit.predict(X_test)\n",
    "clf_B_best_pred = clf_B_best_fit.predict(X_test)\n",
    "clf_C_best_pred = clf_C_best_fit.predict(X_test)\n",
    "\n",
    "print \"Decision Trees\"\n",
    "print \"Accuracy: \" + str(accuracy_score(y_test, clf_A_best_pred))\n",
    "print \"Precision: \" + str(precision_score(y_test, clf_A_best_pred))\n",
    "print \"Recall: \" + str(recall_score(y_test, clf_A_best_pred))\n",
    "print \"F1: \" + str(f1_score(y_test, clf_A_best_pred))\n",
    "\n",
    "print \"Random Forest\"\n",
    "print \"Accuracy: \" + str(accuracy_score(y_test, clf_B_best_pred))\n",
    "print \"Precision: \" + str(precision_score(y_test, clf_B_best_pred))\n",
    "print \"Recall: \" + str(recall_score(y_test, clf_B_best_pred))\n",
    "print \"F1: \" + str(f1_score(y_test, clf_B_best_pred))\n",
    "\n",
    "print \"XGBoost\"\n",
    "print \"Accuracy: \" + str(accuracy_score(y_test, clf_C_best_pred))\n",
    "print \"Precision: \" + str(precision_score(y_test, clf_C_best_pred))\n",
    "print \"Recall: \" + str(recall_score(y_test, clf_C_best_pred))\n",
    "print \"F1: \" + str(f1_score(y_test, clf_C_best_pred))"
   ]
  },
  {
   "cell_type": "markdown",
   "metadata": {},
   "source": [
    "## IV. Results"
   ]
  },
  {
   "cell_type": "code",
   "execution_count": 77,
   "metadata": {
    "collapsed": false
   },
   "outputs": [
    {
     "data": {
      "text/plain": [
       "{'colsample_bytree': 0.75,\n",
       " 'gamma': 0.06,\n",
       " 'learning_rate': 0.05,\n",
       " 'max_depth': 4,\n",
       " 'min_child_weight': 2,\n",
       " 'n_estimators': 100,\n",
       " 'subsample': 0.67}"
      ]
     },
     "execution_count": 77,
     "metadata": {},
     "output_type": "execute_result"
    }
   ],
   "source": [
    "# Obtain best XGBoost parameters\n",
    "bestidx = clf_C_best_fit.cv_results_[\"rank_test_score\"].argmin()\n",
    "clf_C_best_fit.cv_results_[\"params\"][bestidx]"
   ]
  },
  {
   "cell_type": "markdown",
   "metadata": {},
   "source": [
    "**Get final model CV results**"
   ]
  },
  {
   "cell_type": "code",
   "execution_count": 124,
   "metadata": {
    "collapsed": false
   },
   "outputs": [
    {
     "name": "stdout",
     "output_type": "stream",
     "text": [
      "XGBoost train scores:\n",
      "Fold 0: 0.683351872451\n",
      "Fold 1: 0.678651685393\n",
      "Fold 2: 0.682945440671\n",
      "Fold 3: 0.680358476475\n",
      "Fold 4: 0.677254472435\n",
      "Mean: 0.680512389485\n",
      "Std: 0.00236990860687\n",
      "XGBoost test scores:\n",
      "Fold 0: 0.581395348837\n",
      "Fold 1: 0.626391096979\n",
      "Fold 2: 0.626427406199\n",
      "Fold 3: 0.596385542169\n",
      "Fold 4: 0.589595375723\n",
      "Mean: 0.604041470488\n",
      "Std: 0.0188744036157\n"
     ]
    }
   ],
   "source": [
    "# Print best XGBoost train and test scores\n",
    "print \"XGBoost train scores:\"\n",
    "for i in range(0, 5):\n",
    "    print \"Fold {0}: \".format(i) + str(clf_C_best_fit.cv_results_[\"split\" + str(i) + \"_train_score\"][bestidx])\n",
    "print \"Mean: \" + str(clf_C_best_fit.cv_results_[\"mean_train_score\"][bestidx])\n",
    "print \"Std: \" + str(clf_C_best_fit.cv_results_[\"std_train_score\"][bestidx])\n",
    "\n",
    "print \"XGBoost test scores:\"\n",
    "for i in range(0, 5):\n",
    "    print \"Fold {0}: \".format(i) + str(clf_C_best_fit.cv_results_[\"split\" + str(i) + \"_test_score\"][bestidx])\n",
    "print \"Mean: \" + str(clf_C_best_fit.cv_results_[\"mean_test_score\"][bestidx])\n",
    "print \"Std: \" + str(clf_C_best_fit.cv_results_[\"std_test_score\"][bestidx])"
   ]
  },
  {
   "cell_type": "markdown",
   "metadata": {},
   "source": [
    "### Compare final model with benchmark"
   ]
  },
  {
   "cell_type": "code",
   "execution_count": 130,
   "metadata": {
    "collapsed": false
   },
   "outputs": [
    {
     "name": "stdout",
     "output_type": "stream",
     "text": [
      "Benchmark model\n",
      "Accuracy: 0.549146285187\n",
      "Precision: 0.524566473988\n",
      "Recall: 0.359050445104\n",
      "F1: 0.42630651791\n",
      "XGBoost\n",
      "Accuracy: 0.636363636364\n",
      "Precision: 0.638854296389\n",
      "Recall: 0.507418397626\n",
      "F1: 0.565600882029\n",
      "Absolute Delta\n",
      "Accuracy: 0.0872173511767\n",
      "Precision: 0.1142878224\n",
      "Recall: 0.148367952522\n",
      "F1: 0.139294364119\n",
      "Relative Delta\n",
      "Accuracy: 0.158823529412\n",
      "Precision: 0.217871000278\n",
      "Recall: 0.413223140496\n",
      "F1: 0.326746972582\n"
     ]
    }
   ],
   "source": [
    "# Print and compare benchmark and final model results on test data\n",
    "print \"Benchmark model\"\n",
    "print \"Accuracy: \" + str(accuracy_score(y_test, benchmark_pred))\n",
    "print \"Precision: \" + str(precision_score(y_test, benchmark_pred))\n",
    "print \"Recall: \" + str(recall_score(y_test, benchmark_pred))\n",
    "print \"F1: \" + str(f1_score(y_test, benchmark_pred))\n",
    "print \"XGBoost\"\n",
    "print \"Accuracy: \" + str(accuracy_score(y_test, clf_C_best_pred))\n",
    "print \"Precision: \" + str(precision_score(y_test, clf_C_best_pred))\n",
    "print \"Recall: \" + str(recall_score(y_test, clf_C_best_pred))\n",
    "print \"F1: \" + str(f1_score(y_test, clf_C_best_pred))\n",
    "print \"Absolute Delta\"\n",
    "print \"Accuracy: \" + str(accuracy_score(y_test, clf_C_best_pred) - accuracy_score(y_test, benchmark_pred))\n",
    "print \"Precision: \" + str(precision_score(y_test, clf_C_best_pred) - precision_score(y_test, benchmark_pred))\n",
    "print \"Recall: \" + str(recall_score(y_test, clf_C_best_pred) - recall_score(y_test, benchmark_pred))\n",
    "print \"F1: \" + str(f1_score(y_test, clf_C_best_pred) - f1_score(y_test, benchmark_pred))\n",
    "print \"Relative Delta\"\n",
    "print \"Accuracy: \" + str(accuracy_score(y_test, clf_C_best_pred) / accuracy_score(y_test, benchmark_pred) - 1)\n",
    "print \"Precision: \" + str(precision_score(y_test, clf_C_best_pred) / precision_score(y_test, benchmark_pred) - 1)\n",
    "print \"Recall: \" + str(recall_score(y_test, clf_C_best_pred) / recall_score(y_test, benchmark_pred) - 1)\n",
    "print \"F1: \" + str(f1_score(y_test, clf_C_best_pred) / f1_score(y_test, benchmark_pred) - 1)"
   ]
  },
  {
   "cell_type": "markdown",
   "metadata": {},
   "source": [
    "## V. Conclusion"
   ]
  },
  {
   "cell_type": "code",
   "execution_count": 104,
   "metadata": {
    "collapsed": false
   },
   "outputs": [],
   "source": [
    "# Get Random Forest feature importances (for comparison only)\n",
    "importances = clf_B_fit.feature_importances_\n",
    "indices = np.argsort(importances)[::-1]\n",
    "columns = X_train.columns.values[indices[:30]]\n",
    "values = importances[indices][:30]"
   ]
  },
  {
   "cell_type": "code",
   "execution_count": 105,
   "metadata": {
    "collapsed": false
   },
   "outputs": [
    {
     "name": "stdout",
     "output_type": "stream",
     "text": [
      "['energy' 'acousticness' 'danceability' 'popularity' 'duration_ms'\n",
      " 'speechiness' 'loudness' 'valence' 'tempo' 'liveness' 'instrumentalness'\n",
      " 'mode' 'key_D' 'key_E' 'explicit' 'key_G' 'key_C' 'key_A' 'key_B' 'key_F'\n",
      " 'key_C#/Db' 'key_G#/Ab' 'key_F#/Gb' 'time_signature_4' 'time_signature_3'\n",
      " 'key_A#/Bb' 'key_D#/Eb' 'time_signature_5' 'time_signature_1'\n",
      " 'time_signature_0']\n",
      "[  9.30766330e-02   9.16306042e-02   8.59321769e-02   8.23021228e-02\n",
      "   8.08111068e-02   7.98182565e-02   7.94792657e-02   7.70165043e-02\n",
      "   7.67539085e-02   7.63581122e-02   6.52469961e-02   1.10521844e-02\n",
      "   8.03761473e-03   7.74721200e-03   7.57005252e-03   7.50766702e-03\n",
      "   7.40989591e-03   7.30713604e-03   7.29302171e-03   7.13275042e-03\n",
      "   6.28285348e-03   5.90736497e-03   5.90012786e-03   5.30414424e-03\n",
      "   5.10704163e-03   4.96726358e-03   4.53106689e-03   1.52181714e-03\n",
      "   9.55819754e-04   3.92786749e-05]\n"
     ]
    }
   ],
   "source": [
    "# Print Random Forest feature importances\n",
    "print columns\n",
    "print values"
   ]
  },
  {
   "cell_type": "code",
   "execution_count": 106,
   "metadata": {
    "collapsed": false
   },
   "outputs": [],
   "source": [
    "# Get XGBoost feature importances (for comparison only)\n",
    "importances = clf_C_fit.feature_importances_\n",
    "indices = np.argsort(importances)[::-1]\n",
    "columns = X_train.columns.values[indices[:30]]\n",
    "values = importances[indices][:30]"
   ]
  },
  {
   "cell_type": "code",
   "execution_count": 107,
   "metadata": {
    "collapsed": false
   },
   "outputs": [
    {
     "name": "stdout",
     "output_type": "stream",
     "text": [
      "['popularity' 'acousticness' 'speechiness' 'danceability' 'duration_ms'\n",
      " 'loudness' 'liveness' 'valence' 'energy' 'tempo' 'instrumentalness'\n",
      " 'explicit' 'key_D#/Eb' 'key_E' 'mode' 'time_signature_1'\n",
      " 'time_signature_5' 'key_A' 'key_B' 'key_C#/Db' 'key_G' 'time_signature_4'\n",
      " 'key_C' 'key_D' 'key_F' 'key_F#/Gb' 'key_G#/Ab' 'time_signature_0'\n",
      " 'time_signature_3' 'key_A#/Bb']\n",
      "[ 0.14263566  0.10232558  0.1007752   0.09147287  0.08527132  0.08527132\n",
      "  0.08372093  0.075969    0.0744186   0.06356589  0.04031008  0.0124031\n",
      "  0.0124031   0.00930233  0.00775194  0.00465116  0.00155039  0.00155039\n",
      "  0.00155039  0.00155039  0.00155039  0.          0.          0.          0.\n",
      "  0.          0.          0.          0.          0.        ]\n"
     ]
    }
   ],
   "source": [
    "# Print XGBoost feature importances\n",
    "print columns\n",
    "print values"
   ]
  },
  {
   "cell_type": "code",
   "execution_count": 160,
   "metadata": {
    "collapsed": false
   },
   "outputs": [
    {
     "data": {
      "image/png": "[encoded data removed]",
      "text/plain": [
       "<matplotlib.figure.Figure at 0x11a869650>"
      ]
     },
     "metadata": {},
     "output_type": "display_data"
    }
   ],
   "source": [
    "# Plot top ten XGBoost feature importances\n",
    "num_feats = 10\n",
    "plt.figure(figsize = (10,5))\n",
    "plt.bar(np.arange(num_feats), values[:num_feats], width = 0.3, align=\"center\", \\\n",
    "        label = \"Feature Weight\")\n",
    "plt.bar(np.arange(num_feats) - 0.3, np.cumsum(values[:num_feats]), width = 0.3, \\\n",
    "        align = \"center\", label = \"Cumulative Feature Weight\")\n",
    "plt.xticks(np.arange(num_feats), columns[:num_feats])\n",
    "plt.xlim((-0.5, (num_feats - 0.5)))\n",
    "plt.ylabel(\"Weight\")\n",
    "plt.xlabel(\"Feature\")\n",
    "plt.title(\"Normalised Weights of Top Ten Most Predictive Features\")\n",
    "plt.legend(loc = 'best')\n",
    "plt.tight_layout()\n",
    "plt.show()  \n"
   ]
  },
  {
   "cell_type": "code",
   "execution_count": 152,
   "metadata": {
    "collapsed": false
   },
   "outputs": [
    {
     "data": {
      "text/plain": [
       "0.52248062938451767"
      ]
     },
     "execution_count": 152,
     "metadata": {},
     "output_type": "execute_result"
    }
   ],
   "source": [
    "# Sum top 5 most important features\n",
    "sum(values[:5])"
   ]
  },
  {
   "cell_type": "code",
   "execution_count": 154,
   "metadata": {
    "collapsed": false
   },
   "outputs": [
    {
     "data": {
      "text/plain": [
       "0.38294574618339539"
      ]
     },
     "execution_count": 154,
     "metadata": {},
     "output_type": "execute_result"
    }
   ],
   "source": [
    "# Sum next 5 most important features\n",
    "sum(values[5:10])"
   ]
  },
  {
   "cell_type": "markdown",
   "metadata": {},
   "source": [
    "## Export models"
   ]
  },
  {
   "cell_type": "code",
   "execution_count": 98,
   "metadata": {
    "collapsed": false
   },
   "outputs": [
    {
     "data": {
      "text/plain": [
       "['clf_C_fit.dat']"
      ]
     },
     "execution_count": 98,
     "metadata": {},
     "output_type": "execute_result"
    }
   ],
   "source": [
    "# Import joblib\n",
    "from sklearn.externals import joblib\n",
    "\n",
    "# Export training and test data using joblib\n",
    "joblib.dump(X_train, \"X_train.dat\")\n",
    "joblib.dump(y_train, \"y_train.dat\")\n",
    "joblib.dump(X_test, \"X_test.dat\")\n",
    "joblib.dump(y_test, \"y_test.dat\")\n",
    "\n",
    "# Export models using joblib\n",
    "joblib.dump(clf_A_fit, \"clf_A_fit.dat\")\n",
    "joblib.dump(clf_A_best_fit, \"clf_A_fit.dat\")\n",
    "joblib.dump(clf_B_fit, \"clf_B_fit.dat\")\n",
    "joblib.dump(clf_B_best_fit, \"clf_B_fit.dat\")\n",
    "joblib.dump(clf_C_fit, \"clf_C_fit.dat\")\n",
    "joblib.dump(clf_C_best_fit, \"clf_C_fit.dat\")"
   ]
  }
 ],
 "metadata": {
  "anaconda-cloud": {},
  "kernelspec": {
   "display_name": "Python [conda env:DAND]",
   "language": "python",
   "name": "conda-env-DAND-py"
  },
  "language_info": {
   "codemirror_mode": {
    "name": "ipython",
    "version": 2
   },
   "file_extension": ".py",
   "mimetype": "text/x-python",
   "name": "python",
   "nbconvert_exporter": "python",
   "pygments_lexer": "ipython2",
   "version": "2.7.13"
  }
 },
 "nbformat": 4,
 "nbformat_minor": 2
}
